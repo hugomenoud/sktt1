{
  "nbformat": 4,
  "nbformat_minor": 0,
  "metadata": {
    "colab": {
      "provenance": [],
      "authorship_tag": "ABX9TyORkXLPetUOEaRcBcYEbW82",
      "include_colab_link": true
    },
    "kernelspec": {
      "name": "python3",
      "display_name": "Python 3"
    },
    "language_info": {
      "name": "python"
    }
  },
  "cells": [
    {
      "cell_type": "markdown",
      "metadata": {
        "id": "view-in-github",
        "colab_type": "text"
      },
      "source": [
        "<a href=\"https://colab.research.google.com/github/hugomenoud/sktt1/blob/main/TFT_Screenshot_taker.ipynb\" target=\"_parent\"><img src=\"https://colab.research.google.com/assets/colab-badge.svg\" alt=\"Open In Colab\"/></a>"
      ]
    },
    {
      "cell_type": "code",
      "execution_count": null,
      "metadata": {
        "id": "-n5PW8MNuoza"
      },
      "outputs": [],
      "source": [
        "pip install pyautogui pytesseract"
      ]
    },
    {
      "cell_type": "code",
      "source": [
        "import pyautogui\n",
        "import time\n",
        "import os\n",
        "import pytesseract\n",
        "\n",
        "# Set the path to the tesseract executable (if not in system PATH)\n",
        "pytesseract.pytesseract.tesseract_cmd = r\"path/to/tesseract\"\n",
        "\n",
        "screenshot_directory = \"path/to/screenshot/directory\"\n",
        "os.makedirs(screenshot_directory, exist_ok=True)\n",
        "\n",
        "def take_screenshot(round_number):\n",
        "    screenshot_path = os.path.join(screenshot_directory, f\"round_{round_number}.png\")\n",
        "    pyautogui.screenshot(screenshot_path)\n",
        "    print(f\"Screenshot taken for round {round_number}\")\n",
        "\n",
        "def get_round_number():\n",
        "    # Define the region on the screen where the round number is displayed\n",
        "    region = (100, 100, 200, 50)  # Adjust the coordinates and dimensions as needed\n",
        "\n",
        "    # Capture the screenshot of the specified region\n",
        "    screenshot = pyautogui.screenshot(region=region)\n",
        "\n",
        "    # Convert the screenshot to a string using OCR\n",
        "    round_number_text = pytesseract.image_to_string(screenshot, config='--psm 7')\n",
        "\n",
        "    # Extract the round number from the OCR result\n",
        "    try:\n",
        "        round_number = int(round_number_text.strip())\n",
        "        return round_number\n",
        "    except ValueError:\n",
        "        return None\n",
        "\n",
        "def main():\n",
        "    previous_round_number = None\n",
        "\n",
        "    while True:\n",
        "        current_round_number = get_round_number()\n",
        "        if current_round_number is not None and current_round_number != previous_round_number:\n",
        "            take_screenshot(current_round_number)\n",
        "            previous_round_number = current_round_number\n",
        "        time.sleep(1)  # Adjust the polling interval as needed\n",
        "\n",
        "if __name__ == \"__main__\":\n",
        "    main()"
      ],
      "metadata": {
        "id": "cJgR0Ig1utx0"
      },
      "execution_count": null,
      "outputs": []
    }
  ]
}