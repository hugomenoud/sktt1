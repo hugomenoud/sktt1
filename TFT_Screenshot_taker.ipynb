{
  "nbformat": 4,
  "nbformat_minor": 0,
  "metadata": {
    "colab": {
      "provenance": [],
      "authorship_tag": "ABX9TyPW0o7kdVp+SQ4OO8EI10Ef",
      "include_colab_link": true
    },
    "kernelspec": {
      "name": "python3",
      "display_name": "Python 3"
    },
    "language_info": {
      "name": "python"
    }
  },
  "cells": [
    {
      "cell_type": "markdown",
      "metadata": {
        "id": "view-in-github",
        "colab_type": "text"
      },
      "source": [
        "<a href=\"https://colab.research.google.com/github/hugomenoud/sktt1/blob/main/TFT_Screenshot_taker.ipynb\" target=\"_parent\"><img src=\"https://colab.research.google.com/assets/colab-badge.svg\" alt=\"Open In Colab\"/></a>"
      ]
    },
    {
      "cell_type": "code",
      "execution_count": null,
      "metadata": {
        "id": "-n5PW8MNuoza"
      },
      "outputs": [],
      "source": [
        "pip install pyautogui pytesseract"
      ]
    },
    {
      "cell_type": "code",
      "source": [
        "import pyautogui\n",
        "import pytesseract\n",
        "import time\n",
        "import os\n",
        "\n",
        "# Set the path to the Tesseract executable (if not in system PATH)\n",
        "pytesseract.pytesseract.tesseract_cmd = r'/opt/homebrew/bin/tesseract'\n",
        "\n",
        "# Set the coordinates and size of the region where the round number is displayed\n",
        "round_region = (961, 0, 130, 50) # Adjust the coordinates and size according to your screen\n",
        "\n",
        "# Set the directory to save the screenshots\n",
        "screenshot_dir = 'tft_screenshots'\n",
        "\n",
        "# Create the screenshot directory if it doesn't exist\n",
        "if not os.path.exists(screenshot_dir):\n",
        "    os.makedirs(screenshot_dir)\n",
        "\n",
        "previous_round = None\n",
        "\n",
        "while True:\n",
        "    # Take a screenshot of the round region\n",
        "    round_screenshot = pyautogui.screenshot(region=round_region)\n",
        "\n",
        "    # Convert the screenshot to a string using OCR\n",
        "    round_text = pytesseract.image_to_string(round_screenshot)\n",
        "\n",
        "    # Extract the round number from the OCR result\n",
        "    current_round = round_text.strip()\n",
        "\n",
        "    # Compare the current round with the previous round\n",
        "    if current_round != previous_round:\n",
        "        # Take a global screenshot\n",
        "        global_screenshot = pyautogui.screenshot()\n",
        "\n",
        "        # Save the global screenshot with a unique filename\n",
        "        timestamp = time.strftime(\"%Y%m%d_%H%M%S\")\n",
        "        screenshot_path = os.path.join(screenshot_dir, f'tft_round_{current_round}_{timestamp}.png')\n",
        "        global_screenshot.save(screenshot_path)\n",
        "\n",
        "        print(f'Saved screenshot for round {current_round}')\n",
        "\n",
        "        previous_round = current_round\n",
        "    else:\n",
        "        print(f'Skipping screenshot for round {current_round}')\n",
        "\n",
        "    # Wait for 30 seconds before taking the next screenshot\n",
        "    time.sleep(30)"
      ],
      "metadata": {
        "id": "cJgR0Ig1utx0"
      },
      "execution_count": null,
      "outputs": []
    }
  ]
}